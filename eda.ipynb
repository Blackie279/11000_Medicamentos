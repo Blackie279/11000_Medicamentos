{
 "cells": [
  {
   "cell_type": "code",
   "execution_count": 1,
   "metadata": {},
   "outputs": [],
   "source": [
    "import pandas as pd"
   ]
  },
  {
   "cell_type": "code",
   "execution_count": 2,
   "metadata": {},
   "outputs": [],
   "source": [
    "df = pd.read_csv(r'Medicine_Details.csv')"
   ]
  },
  {
   "cell_type": "code",
   "execution_count": 9,
   "metadata": {},
   "outputs": [
    {
     "data": {
      "text/html": [
       "<div>\n",
       "<style scoped>\n",
       "    .dataframe tbody tr th:only-of-type {\n",
       "        vertical-align: middle;\n",
       "    }\n",
       "\n",
       "    .dataframe tbody tr th {\n",
       "        vertical-align: top;\n",
       "    }\n",
       "\n",
       "    .dataframe thead th {\n",
       "        text-align: right;\n",
       "    }\n",
       "</style>\n",
       "<table border=\"1\" class=\"dataframe\">\n",
       "  <thead>\n",
       "    <tr style=\"text-align: right;\">\n",
       "      <th></th>\n",
       "      <th>Medicine Name</th>\n",
       "      <th>Composition</th>\n",
       "      <th>Uses</th>\n",
       "      <th>Side_effects</th>\n",
       "      <th>Image URL</th>\n",
       "      <th>Manufacturer</th>\n",
       "      <th>Excellent Review %</th>\n",
       "      <th>Average Review %</th>\n",
       "      <th>Poor Review %</th>\n",
       "    </tr>\n",
       "  </thead>\n",
       "  <tbody>\n",
       "    <tr>\n",
       "      <th>0</th>\n",
       "      <td>Avastin 400mg Injection</td>\n",
       "      <td>Bevacizumab (400mg)</td>\n",
       "      <td>Cancer of colon and rectum Non-small cell lun...</td>\n",
       "      <td>Rectal bleeding Taste change Headache Noseblee...</td>\n",
       "      <td>https://onemg.gumlet.io/l_watermark_346,w_480,...</td>\n",
       "      <td>Roche Products India Pvt Ltd</td>\n",
       "      <td>22</td>\n",
       "      <td>56</td>\n",
       "      <td>22</td>\n",
       "    </tr>\n",
       "    <tr>\n",
       "      <th>1</th>\n",
       "      <td>Augmentin 625 Duo Tablet</td>\n",
       "      <td>Amoxycillin  (500mg) +  Clavulanic Acid (125mg)</td>\n",
       "      <td>Treatment of Bacterial infections</td>\n",
       "      <td>Vomiting Nausea Diarrhea Mucocutaneous candidi...</td>\n",
       "      <td>https://onemg.gumlet.io/l_watermark_346,w_480,...</td>\n",
       "      <td>Glaxo SmithKline Pharmaceuticals Ltd</td>\n",
       "      <td>47</td>\n",
       "      <td>35</td>\n",
       "      <td>18</td>\n",
       "    </tr>\n",
       "  </tbody>\n",
       "</table>\n",
       "</div>"
      ],
      "text/plain": [
       "              Medicine Name                                      Composition  \\\n",
       "0   Avastin 400mg Injection                              Bevacizumab (400mg)   \n",
       "1  Augmentin 625 Duo Tablet  Amoxycillin  (500mg) +  Clavulanic Acid (125mg)   \n",
       "\n",
       "                                                Uses  \\\n",
       "0   Cancer of colon and rectum Non-small cell lun...   \n",
       "1                  Treatment of Bacterial infections   \n",
       "\n",
       "                                        Side_effects  \\\n",
       "0  Rectal bleeding Taste change Headache Noseblee...   \n",
       "1  Vomiting Nausea Diarrhea Mucocutaneous candidi...   \n",
       "\n",
       "                                           Image URL  \\\n",
       "0  https://onemg.gumlet.io/l_watermark_346,w_480,...   \n",
       "1  https://onemg.gumlet.io/l_watermark_346,w_480,...   \n",
       "\n",
       "                           Manufacturer  Excellent Review %  Average Review %  \\\n",
       "0          Roche Products India Pvt Ltd                  22                56   \n",
       "1  Glaxo SmithKline Pharmaceuticals Ltd                  47                35   \n",
       "\n",
       "   Poor Review %  \n",
       "0             22  \n",
       "1             18  "
      ]
     },
     "execution_count": 9,
     "metadata": {},
     "output_type": "execute_result"
    }
   ],
   "source": [
    "df.head(2)"
   ]
  },
  {
   "cell_type": "code",
   "execution_count": 21,
   "metadata": {},
   "outputs": [
    {
     "data": {
      "text/plain": [
       "Medicine Name         0\n",
       "Composition           0\n",
       "Uses                  0\n",
       "Side_effects          0\n",
       "Image URL             0\n",
       "Manufacturer          0\n",
       "Excellent Review %    0\n",
       "Average Review %      0\n",
       "Poor Review %         0\n",
       "dtype: int64"
      ]
     },
     "execution_count": 21,
     "metadata": {},
     "output_type": "execute_result"
    }
   ],
   "source": [
    "df.isnull().sum()"
   ]
  },
  {
   "cell_type": "code",
   "execution_count": 16,
   "metadata": {},
   "outputs": [
    {
     "name": "stdout",
     "output_type": "stream",
     "text": [
      "11498\n",
      "3358\n",
      "759\n"
     ]
    }
   ],
   "source": [
    "# Valores únicos\n",
    "print(df[\"Medicine Name\"].nunique())\n",
    "print(df[\"Composition\"].nunique())\n",
    "print(df[\"Manufacturer\"].nunique())"
   ]
  },
  {
   "cell_type": "code",
   "execution_count": 17,
   "metadata": {},
   "outputs": [
    {
     "name": "stdout",
     "output_type": "stream",
     "text": [
      "Sun Pharmaceutical Industries Ltd    820\n",
      "Intas Pharmaceuticals Ltd            654\n",
      "Cipla Ltd                            574\n",
      "Torrent Pharmaceuticals Ltd          445\n",
      "Lupin Ltd                            435\n",
      "                                    ... \n",
      "Focaz Medipharma                       1\n",
      "Anhox Healthcare Pvt Ltd               1\n",
      "Auftritt Healthcare Pvt Ltd            1\n",
      "Xena Coronus Health Care Pvt Ltd       1\n",
      "Austrak Pvt Ltd                        1\n",
      "Name: Manufacturer, Length: 759, dtype: int64\n"
     ]
    }
   ],
   "source": [
    "# Contar frecuencia de fabricantes\n",
    "manufacturer_counts = df['Manufacturer'].value_counts()\n",
    "print(manufacturer_counts)"
   ]
  },
  {
   "cell_type": "code",
   "execution_count": 18,
   "metadata": {},
   "outputs": [],
   "source": [
    "# Convertir columnas de porcentaje a tipo float\n",
    "df['Excellent Review %'] = df['Excellent Review %'].astype(float)\n",
    "df['Average Review %'] = df['Average Review %'].astype(float)\n",
    "df['Poor Review %'] = df['Poor Review %'].astype(float)"
   ]
  },
  {
   "cell_type": "code",
   "execution_count": 19,
   "metadata": {},
   "outputs": [
    {
     "name": "stdout",
     "output_type": "stream",
     "text": [
      "Estadísticas de reseñas:\n",
      "        Excellent Review %  Average Review %  Poor Review %\n",
      "count        11825.000000      11825.000000   11825.000000\n",
      "mean            38.516025         35.756364      25.727611\n",
      "std             25.225343         18.268134      23.991985\n",
      "min              0.000000          0.000000       0.000000\n",
      "25%             22.000000         27.000000       0.000000\n",
      "50%             34.000000         35.000000      22.000000\n",
      "75%             51.000000         47.000000      35.000000\n",
      "max            100.000000         88.000000     100.000000\n"
     ]
    }
   ],
   "source": [
    "# Estadísticas de reseñas\n",
    "print(\"Estadísticas de reseñas:\\n\", df[['Excellent Review %', 'Average Review %', 'Poor Review %']].describe())"
   ]
  }
 ],
 "metadata": {
  "kernelspec": {
   "display_name": "Python 3",
   "language": "python",
   "name": "python3"
  },
  "language_info": {
   "codemirror_mode": {
    "name": "ipython",
    "version": 3
   },
   "file_extension": ".py",
   "mimetype": "text/x-python",
   "name": "python",
   "nbconvert_exporter": "python",
   "pygments_lexer": "ipython3",
   "version": "3.7.0"
  }
 },
 "nbformat": 4,
 "nbformat_minor": 2
}
